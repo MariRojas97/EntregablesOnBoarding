{
 "cells": [
  {
   "cell_type": "markdown",
   "metadata": {},
   "source": [
    "## Asteroide"
   ]
  },
  {
   "cell_type": "code",
   "execution_count": 7,
   "metadata": {},
   "outputs": [
    {
     "name": "stdout",
     "output_type": "stream",
     "text": [
      "El Asteride llega\n"
     ]
    }
   ],
   "source": [
    "velocidadAsteroide = 49\n",
    "if velocidadAsteroide > 25 :\n",
    "    print('El Asteride llega')\n",
    "else:\n",
    "    print('Estas a salvo')"
   ]
  },
  {
   "cell_type": "code",
   "execution_count": 2,
   "metadata": {},
   "outputs": [
    {
     "name": "stdout",
     "output_type": "stream",
     "text": [
      "No se ve el Rayo de luz\n"
     ]
    }
   ],
   "source": [
    "velocidadAsteroide = 19\n",
    "if velocidadAsteroide > 20:\n",
    "    print('Rayo de luz desde la tierra')\n",
    "elif velocidadAsteroide ==20:\n",
    "    print('Rayo de luz desde la tierra')\n",
    "else: \n",
    "    print('No se ve el Rayo de luz')"
   ]
  },
  {
   "cell_type": "code",
   "execution_count": 11,
   "metadata": {},
   "outputs": [
    {
     "name": "stdout",
     "output_type": "stream",
     "text": [
      "A salvo\n"
     ]
    }
   ],
   "source": [
    "velocidadAsteroide = 19\n",
    "dimensionAsteroide = 30\n",
    "\n",
    "if dimensionAsteroide > 25 and velocidadAsteroide > 25:\n",
    "    print('Catastrofe')\n",
    "elif velocidadAsteroide >= 20:   \n",
    "    print('Rayo de luz')\n",
    "elif dimensionAsteroide < 25:\n",
    "    print('Quemado')\n",
    "else:\n",
    "    print('A salvo')"
   ]
  }
 ],
 "metadata": {
  "interpreter": {
   "hash": "de5375a7028192ab9c6112e85a9072fa45c1159579b5eb5ead93e88f9ed5a1da"
  },
  "kernelspec": {
   "display_name": "Python 3.10.2 64-bit (windows store)",
   "language": "python",
   "name": "python3"
  },
  "language_info": {
   "codemirror_mode": {
    "name": "ipython",
    "version": 3
   },
   "file_extension": ".py",
   "mimetype": "text/x-python",
   "name": "python",
   "nbconvert_exporter": "python",
   "pygments_lexer": "ipython3",
   "version": "3.10.2"
  },
  "orig_nbformat": 4
 },
 "nbformat": 4,
 "nbformat_minor": 2
}
